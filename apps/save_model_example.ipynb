{
 "cells": [
  {
   "cell_type": "code",
   "execution_count": 1,
   "metadata": {},
   "outputs": [],
   "source": [
    "import tensorflow as tf\n",
    "import numpy as np\n",
    "import os\n",
    "import shutil"
   ]
  },
  {
   "cell_type": "code",
   "execution_count": 2,
   "metadata": {},
   "outputs": [],
   "source": [
    "# Generate training data\n",
    "# Here I am just predicting the random number (as a simple example)\n",
    "x_train = np.arange(0,1,.0001).reshape([10000,1])-1\n",
    "\n",
    "y_train = 5*x_train"
   ]
  },
  {
   "cell_type": "code",
   "execution_count": 3,
   "metadata": {},
   "outputs": [
    {
     "name": "stderr",
     "output_type": "stream",
     "text": [
      "WARNING: Logging before flag parsing goes to stderr.\n",
      "W0805 14:03:13.958106 139854053570368 deprecation.py:506] From /usr/local/lib/python3.6/dist-packages/tensorflow/python/ops/init_ops.py:1251: calling VarianceScaling.__init__ (from tensorflow.python.ops.init_ops) with dtype is deprecated and will be removed in a future version.\n",
      "Instructions for updating:\n",
      "Call initializer instance with the dtype argument instead of passing it to the constructor\n"
     ]
    },
    {
     "name": "stdout",
     "output_type": "stream",
     "text": [
      "Epoch 1/10\n",
      "10000/10000 [==============================] - 0s 23us/sample - loss: 11.3790\n",
      "Epoch 2/10\n",
      "10000/10000 [==============================] - 0s 14us/sample - loss: 8.7649\n",
      "Epoch 3/10\n",
      "10000/10000 [==============================] - 0s 14us/sample - loss: 6.6990\n",
      "Epoch 4/10\n",
      "10000/10000 [==============================] - 0s 13us/sample - loss: 5.0947\n",
      "Epoch 5/10\n",
      "10000/10000 [==============================] - 0s 13us/sample - loss: 3.8739\n",
      "Epoch 6/10\n",
      "10000/10000 [==============================] - 0s 13us/sample - loss: 2.9743\n",
      "Epoch 7/10\n",
      "10000/10000 [==============================] - 0s 13us/sample - loss: 2.3318\n",
      "Epoch 8/10\n",
      "10000/10000 [==============================] - 0s 13us/sample - loss: 1.8900\n",
      "Epoch 9/10\n",
      "10000/10000 [==============================] - 0s 13us/sample - loss: 1.5958\n",
      "Epoch 10/10\n",
      "10000/10000 [==============================] - 0s 14us/sample - loss: 1.4022\n"
     ]
    },
    {
     "data": {
      "text/plain": [
       "<tensorflow.python.keras.callbacks.History at 0x7f31d05b75c0>"
      ]
     },
     "execution_count": 3,
     "metadata": {},
     "output_type": "execute_result"
    }
   ],
   "source": [
    "# Create and Train Model\n",
    "model = tf.keras.Sequential([tf.keras.layers.InputLayer(input_shape=(1,)),\n",
    "                            tf.keras.layers.Dense(1,activation='linear')])\n",
    "\n",
    "model.compile(optimizer='adam',\n",
    "              loss='mean_squared_error')\n",
    "\n",
    "model.fit(x_train, y_train, epochs=10)"
   ]
  },
  {
   "cell_type": "code",
   "execution_count": 4,
   "metadata": {},
   "outputs": [
    {
     "data": {
      "text/plain": [
       "array([[-2.8954148],\n",
       "       [-2.895312 ],\n",
       "       [-2.8952093],\n",
       "       ...,\n",
       "       [-1.8676348],\n",
       "       [-1.867532 ],\n",
       "       [-1.8674291]], dtype=float32)"
      ]
     },
     "execution_count": 4,
     "metadata": {},
     "output_type": "execute_result"
    }
   ],
   "source": [
    "model.predict(x_train)"
   ]
  },
  {
   "cell_type": "code",
   "execution_count": 5,
   "metadata": {
    "scrolled": true
   },
   "outputs": [
    {
     "name": "stderr",
     "output_type": "stream",
     "text": [
      "W0805 14:03:17.323401 139854053570368 deprecation.py:323] From <ipython-input-5-cc54c968d48f>:16: simple_save (from tensorflow.python.saved_model.simple_save) is deprecated and will be removed in a future version.\n",
      "Instructions for updating:\n",
      "This function will only be available through the v1 compatibility library as tf.compat.v1.saved_model.simple_save.\n",
      "W0805 14:03:17.323892 139854053570368 deprecation.py:323] From /usr/local/lib/python3.6/dist-packages/tensorflow/python/saved_model/signature_def_utils_impl.py:201: build_tensor_info (from tensorflow.python.saved_model.utils_impl) is deprecated and will be removed in a future version.\n",
      "Instructions for updating:\n",
      "This function will only be available through the v1 compatibility library as tf.compat.v1.saved_model.utils.build_tensor_info or tf.compat.v1.saved_model.build_tensor_info.\n"
     ]
    }
   ],
   "source": [
    "# x = tf.placeholder(tf.dtypes.float32)\n",
    "# y = 5*x\n",
    "\n",
    "# Save the Model\n",
    "cwd = os.getcwd()\n",
    "filename = 'example_file'\n",
    "\n",
    "export_path = os.path.join(cwd,filename)\n",
    "\n",
    "if os.path.exists(export_path):\n",
    "    shutil.rmtree(export_path)\n",
    "    \n",
    "tf.saved_model.simple_save(tf.keras.backend.get_session(),\n",
    "                          export_path,\n",
    "                          inputs={'model_input':model.input},\n",
    "                          outputs={'model_output':model.output})"
   ]
  },
  {
   "cell_type": "code",
   "execution_count": 8,
   "metadata": {},
   "outputs": [],
   "source": [
    "# Load the Model\n",
    "with tf.Session() as sess:\n",
    "    test = tf.saved_model.loader.load(sess,\n",
    "                              [tf.saved_model.tag_constants.SERVING],\n",
    "                              export_path)\n",
    "    #print(test)\n",
    "    out = sess.run('dense/BiasAdd:0',feed_dict={'input_1:0':x_train})\n",
    "\n",
    "    \n",
    "    "
   ]
  },
  {
   "cell_type": "code",
   "execution_count": 9,
   "metadata": {},
   "outputs": [
    {
     "data": {
      "text/plain": [
       "array([[-2.8954148],\n",
       "       [-2.895312 ],\n",
       "       [-2.8952093],\n",
       "       ...,\n",
       "       [-1.8676348],\n",
       "       [-1.867532 ],\n",
       "       [-1.8674291]], dtype=float32)"
      ]
     },
     "execution_count": 9,
     "metadata": {},
     "output_type": "execute_result"
    }
   ],
   "source": [
    "out"
   ]
  },
  {
   "cell_type": "code",
   "execution_count": null,
   "metadata": {},
   "outputs": [],
   "source": []
  }
 ],
 "metadata": {
  "kernelspec": {
   "display_name": "Python 3",
   "language": "python",
   "name": "python3"
  },
  "language_info": {
   "codemirror_mode": {
    "name": "ipython",
    "version": 3
   },
   "file_extension": ".py",
   "mimetype": "text/x-python",
   "name": "python",
   "nbconvert_exporter": "python",
   "pygments_lexer": "ipython3",
   "version": "3.6.8"
  }
 },
 "nbformat": 4,
 "nbformat_minor": 2
}
